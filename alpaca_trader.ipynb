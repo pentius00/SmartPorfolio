{
 "cells": [
  {
   "cell_type": "code",
   "execution_count": 11,
   "id": "d5a58155-73d3-4bd8-a6b6-781a071df5bb",
   "metadata": {},
   "outputs": [],
   "source": [
    "import alpaca_trade_api as tradeapi\n",
    "from dotenv import load_dotenv\n",
    "from alpaca_trade_api.rest import REST, TimeFrame\n",
    "import os \n",
    "import pandas as pd\n",
    "from time import sleep \n",
    "\n",
    "\n",
    "#!pip install python-dotenv\n",
    "alpaca_api_key = os.getenv(\"Alpaca_Paper_Key_ID\")\n",
    "alpaca_secret_key = os.getenv(\"Alpaca_Paper_Secret_Key\")\n",
    "load_dotenv(\"key.env\")\n",
    "alpaca = REST(alpaca_api_key, alpaca_secret_key, \"https://paper-api.alpaca.markets\")"
   ]
  },
  {
   "cell_type": "code",
   "execution_count": 12,
   "id": "a496f3ee-9bea-499a-ba0d-4a756a3b3221",
   "metadata": {},
   "outputs": [],
   "source": [
    "def alpaca_caller(ticker, start_date, end_date):\n",
    "    \n",
    "    \"\"\" esta herramienta te permite accedar a la data de los tikers, los parametros son nombre del ticker, la fecha de inicio, y l afecha de finalisado, todo con comillas\"\"\"\n",
    "    \n",
    "    alpaca_api_key = os.getenv(\"Alpaca_Paper_Key_ID\")\n",
    "    alpaca_secret_key = os.getenv(\"Alpaca_Paper_Secret_Key\")\n",
    "    load_dotenv(\"key.env\")\n",
    "    alpaca = tradeapi.REST(alpaca_api_key, alpaca_secret_key, api_version = \"V2\"\n",
    "    )\n",
    "    \n",
    "\n",
    "    ticker = ticker\n",
    "    timeframe = \"1D\"\n",
    "    start_date = pd.Timestamp(start_date, tz=\"America/New_York\").isoformat()\n",
    "    end_date = pd.Timestamp(end_date, tz=\"America/New_York\").isoformat()\n",
    "    ticker_data = alpaca.get_bars(ticker, TimeFrame.Hour, start_date, end_date, adjustment='raw').df\n",
    "    return ticker_data\n"
   ]
  },
  {
   "cell_type": "markdown",
   "id": "1777a5eb-24a1-471a-bceb-6615190f0855",
   "metadata": {},
   "source": [
    "## equal wheight\n",
    "def _target_equal_weights(ticker_list):\n",
    "\n",
    "    target_equal_weights = {}\n",
    "\n",
    "    for ticker in ticker_list:\n",
    "        target_equal_weights[ticker] = 1 / len(ticker_list)\n",
    "\n",
    "    return target_equal_weights\n",
    "\n",
    "target_equal_weights = _target_equal_weights([\"FB\", \"AAPL\", \"AMZN\", \"NFLX\", \"GOOG\"])\n",
    "\n",
    "# {'AAPL': 0.2, 'AMZN': 0.2, 'FB': 0.2, 'GOOG': 0.2, 'NFLX': 0.2}"
   ]
  },
  {
   "cell_type": "code",
   "execution_count": null,
   "id": "3ac6efd0-72a4-4439-b4da-cdfbc2e0970b",
   "metadata": {},
   "outputs": [],
   "source": [
    "## Market cap rebalance\n",
    "\n",
    "import requests\n",
    "import numpy as np\n",
    "import pandas as pd\n",
    "\n",
    "api_key = \"YOUR_INTRINIO_API_KEY_HERE\"\n",
    "\n",
    "def _market_cap(ticker):\n",
    "\n",
    "    res = requests.get(f\"https://api-v2.intrinio.com/companies/{ticker}/historical_data/marketcap?api_key={api_key}\")\n",
    "\n",
    "    if res.status_code == 200:\n",
    "        historical_data = res.json().get(\"historical_data\")\n",
    "        market_cap = historical_data[0].get(\"value\", 0)\n",
    "        return market_cap\n",
    "\n",
    "    return 0\n",
    "\n",
    "def _market_caps(ticker_list):\n",
    "\n",
    "    market_caps = {}\n",
    "    for ticker in ticker_list:\n",
    "        market_caps[ticker] = _market_cap(ticker)\n",
    "\n",
    "    return market_caps\n",
    "\n",
    "def _target_market_cap_weights(ticker_list):\n",
    "\n",
    "    target_market_cap_weights = {}\n",
    "    market_caps = _market_caps(ticker_list)\n",
    "    market_caps_list = list(market_caps.values())\n",
    "    market_cap_weights = market_caps_list / np.sum(market_caps_list)\n",
    "\n",
    "    idx = 0\n",
    "    while idx < len(ticker_list):\n",
    "        target_market_cap_weights[ticker_list[idx]] = round(market_cap_weights[idx], 3)\n",
    "        idx += 1\n",
    "\n",
    "    return target_market_cap_weights\n",
    "\n",
    "target_market_cap_weights = _target_market_cap_weights([\"FB\", \"AAPL\", \"AMZN\", \"NFLX\", \"GOOG\"])\n",
    "\n",
    "# {'AAPL': 0.404, 'AMZN': 0.235, 'FB': 0.094, 'GOOG': 0.243, 'NFLX': 0.024}\n"
   ]
  },
  {
   "cell_type": "code",
   "execution_count": 13,
   "id": "56d0f63b-5467-4884-bbbd-41abab967876",
   "metadata": {},
   "outputs": [],
   "source": [
    "portfolio_symbols = [\"AAPL\", \"MSFT\",\"AMZN\",\"GOOGL\",\"META\",\"TSLA\",\"V\"]"
   ]
  },
  {
   "cell_type": "code",
   "execution_count": 14,
   "id": "933f2a66-efb9-4db3-87d4-a493bd7b1490",
   "metadata": {},
   "outputs": [
    {
     "data": {
      "text/plain": [
       "True"
      ]
     },
     "execution_count": 14,
     "metadata": {},
     "output_type": "execute_result"
    }
   ],
   "source": [
    "def _all_symbols_eligible_for_fractionals(portfolio_symbols):\n",
    "    \n",
    "    all_symbols_eligible_for_fractionals = all([[alpaca.get_asset(symbol).fractionable for symbol in portfolio_symbols]])\n",
    "    return all_symbols_eligible_for_fractionals\n",
    "_all_symbols_eligible_for_fractionals(portfolio_symbols)"
   ]
  },
  {
   "cell_type": "code",
   "execution_count": null,
   "id": "825e4512-5f6e-47ff-b214-71df9c56b5e2",
   "metadata": {},
   "outputs": [],
   "source": []
  },
  {
   "cell_type": "code",
   "execution_count": 32,
   "id": "7184f0b1-6c21-446f-9b7f-8320f24c3cc7",
   "metadata": {},
   "outputs": [],
   "source": [
    "orders = alpaca.list_orders(status='open')\n",
    "alpaca_positions = alpaca.list_positions()"
   ]
  },
  {
   "cell_type": "code",
   "execution_count": null,
   "id": "af2a2d8a-29b3-4413-b989-5cbf84a73048",
   "metadata": {},
   "outputs": [],
   "source": []
  },
  {
   "cell_type": "code",
   "execution_count": null,
   "id": "0aba4e45-7510-4ba6-83aa-0187885a89a8",
   "metadata": {},
   "outputs": [],
   "source": []
  },
  {
   "cell_type": "code",
   "execution_count": null,
   "id": "facec1b5-4731-4525-84fe-3e6dae9a68f3",
   "metadata": {},
   "outputs": [],
   "source": []
  },
  {
   "cell_type": "code",
   "execution_count": 53,
   "id": "b22b3b0a-e155-4198-9253-3dc4f1fd1681",
   "metadata": {},
   "outputs": [
    {
     "data": {
      "text/plain": [
       "[Position({   'asset_class': 'crypto',\n",
       "     'asset_id': '35f33a69-f5d6-4dc9-b158-4485e5e92e4b',\n",
       "     'asset_marginable': False,\n",
       "     'avg_entry_price': '1333.5',\n",
       "     'change_today': '-0.0076587271195527',\n",
       "     'cost_basis': '132.9832875',\n",
       "     'current_price': '1295.7',\n",
       "     'exchange': 'FTXU',\n",
       "     'lastday_price': '1305.7',\n",
       "     'market_value': '129.2136825',\n",
       "     'qty': '0.099725',\n",
       "     'qty_available': '0.099725',\n",
       "     'side': 'long',\n",
       "     'symbol': 'ETHUSD',\n",
       "     'unrealized_intraday_pl': '-0.99725',\n",
       "     'unrealized_intraday_plpc': '-0.0076587271195527',\n",
       "     'unrealized_pl': '-3.769605',\n",
       "     'unrealized_plpc': '-0.0283464566929134'})]"
      ]
     },
     "execution_count": 53,
     "metadata": {},
     "output_type": "execute_result"
    }
   ],
   "source": [
    "def alpaca_symbols_to_close(alpaca_positions, portfolio_symbols):\n",
    "    alpaca_symbols_to_close = [x for x in alpaca_positions if x not in portfolio_symbols]\n",
    "    return alpaca_symbols_to_close\n",
    "\n",
    "alpaca_symbols_to_close = alpaca_symbols_to_close(alpaca_positions, portfolio_symbols)\n",
    "alpaca_symbols_to_close "
   ]
  },
  {
   "cell_type": "code",
   "execution_count": 54,
   "id": "abbe3daf-98df-4e20-8ba8-3f0f31c15dcb",
   "metadata": {},
   "outputs": [],
   "source": [
    "def alpaca_close_positions(symbols_to_close):\n",
    "\n",
    "    for symbol in symbols_to_close:\n",
    "        order_pending = True\n",
    "        alpaca_order_info = alpaca.close_position(symbol)\n",
    "        alpaca_client_order_id = alpaca_order_info.client_order_id\n",
    "        \n",
    "        while order_pending:\n",
    "            alpaca_latest_order_info = alpaca.get_order_by_client_order_id(alpaca_client_order_id)\n",
    "            alpaca_latest_status = alpaca_latest_order_info.status\n",
    "            if alpaca_latest_status == \"filled\":\n",
    "                order_pending = False\n"
   ]
  },
  {
   "cell_type": "code",
   "execution_count": 69,
   "id": "46e60039-b339-4ab2-b959-5d7f16dda24f",
   "metadata": {},
   "outputs": [
    {
     "name": "stdout",
     "output_type": "stream",
     "text": [
      "94623.4345075\n",
      "89892.262782125\n"
     ]
    }
   ],
   "source": [
    "\n",
    "def _rebalance_equity(cash_weight):\n",
    "    \n",
    "    alpaca_account_equity = float(alpaca.get_account().equity)\n",
    "    rebalance_equity = alpaca_account_equity - (alpaca_account_equity * cash_weight)\n",
    "    \n",
    "    return rebalance_equity\n",
    "\n",
    "balance = alpaca.get_account().equity\n",
    "print(balance)\n",
    "\n",
    "rebalance_equity = _rebalance_equity(.05)\n",
    "print(rebalance_equity)"
   ]
  },
  {
   "cell_type": "code",
   "execution_count": 70,
   "id": "d5560bdb-32a8-41af-b3bd-34099be0bafc",
   "metadata": {},
   "outputs": [
    {
     "ename": "ModuleNotFoundError",
     "evalue": "No module named 'portfolio_spanol'",
     "output_type": "error",
     "traceback": [
      "\u001b[1;31m---------------------------------------------------------------------------\u001b[0m",
      "\u001b[1;31mModuleNotFoundError\u001b[0m                       Traceback (most recent call last)",
      "\u001b[1;32m~\\AppData\\Local\\Temp/ipykernel_32648/1876026926.py\u001b[0m in \u001b[0;36m<module>\u001b[1;34m\u001b[0m\n\u001b[1;32m----> 1\u001b[1;33m \u001b[1;32mimport\u001b[0m \u001b[0mportfolio_spanol\u001b[0m\u001b[1;33m\u001b[0m\u001b[1;33m\u001b[0m\u001b[0m\n\u001b[0m\u001b[0;32m      2\u001b[0m \u001b[1;32mdef\u001b[0m \u001b[0m_portfolio_symbols_equity_allocations\u001b[0m\u001b[1;33m(\u001b[0m\u001b[0mtarget_allocations\u001b[0m\u001b[1;33m,\u001b[0m \u001b[0mrebalance_equity\u001b[0m\u001b[1;33m)\u001b[0m\u001b[1;33m:\u001b[0m\u001b[1;33m\u001b[0m\u001b[1;33m\u001b[0m\u001b[0m\n\u001b[0;32m      3\u001b[0m \u001b[1;33m\u001b[0m\u001b[0m\n\u001b[0;32m      4\u001b[0m     \u001b[0mportfolio_symbols_equity_allocations\u001b[0m \u001b[1;33m=\u001b[0m \u001b[1;33m{\u001b[0m\u001b[1;33m}\u001b[0m\u001b[1;33m\u001b[0m\u001b[1;33m\u001b[0m\u001b[0m\n\u001b[0;32m      5\u001b[0m     \u001b[1;32mfor\u001b[0m \u001b[0mticker\u001b[0m\u001b[1;33m,\u001b[0m \u001b[0mweight\u001b[0m \u001b[1;32min\u001b[0m \u001b[0mtarget_allocations\u001b[0m\u001b[1;33m.\u001b[0m\u001b[0mitems\u001b[0m\u001b[1;33m(\u001b[0m\u001b[1;33m)\u001b[0m\u001b[1;33m:\u001b[0m\u001b[1;33m\u001b[0m\u001b[1;33m\u001b[0m\u001b[0m\n",
      "\u001b[1;31mModuleNotFoundError\u001b[0m: No module named 'portfolio_spanol'"
     ]
    }
   ],
   "source": [
    "\n",
    "def _portfolio_symbols_equity_allocations(target_allocations, rebalance_equity):\n",
    "\n",
    "    portfolio_symbols_equity_allocations = {}\n",
    "    for ticker, weight in target_allocations.items():\n",
    "        portfolio_symbols_equity_allocations[ticker] = round((weight * rebalance_equity), 2)\n",
    "    \n",
    "    return portfolio_symbols_equity_allocations"
   ]
  },
  {
   "cell_type": "code",
   "execution_count": 57,
   "id": "4e7ea34b-d5c0-4a0e-b4ba-e5cc83be48ad",
   "metadata": {},
   "outputs": [],
   "source": [
    "\n",
    "def _alpaca_latest_positions_allocations():\n",
    "    \n",
    "    latest_alpaca_positions_allocations = {position.symbol: float(position.market_value) for position in alpaca.list_positions()}\n",
    "    return latest_alpaca_positions_allocations\n",
    "\n",
    "def _alpaca_latest_positions():\n",
    "    \n",
    "    alpaca_positions = alpaca.list_positions()\n",
    "    alpaca_latest_positions = [position.symbol for position in alpaca_positions]\n",
    "\n",
    "    return alpaca_latest_positions\n"
   ]
  },
  {
   "cell_type": "code",
   "execution_count": 66,
   "id": "b0e7c5e3-b8fc-4ecb-90fe-841b554655ec",
   "metadata": {},
   "outputs": [
    {
     "name": "stdout",
     "output_type": "stream",
     "text": [
      "{'ETHUSD': 129.00426}\n",
      "['ETHUSD']\n"
     ]
    }
   ],
   "source": [
    "print(_alpaca_latest_positions_allocations())\n",
    "print(_alpaca_latest_positions())"
   ]
  },
  {
   "cell_type": "code",
   "execution_count": 59,
   "id": "4d2ba33c-a1b5-44cd-acd1-f00fa95ca589",
   "metadata": {},
   "outputs": [],
   "source": [
    "\n",
    "def _alpaca_symbols_to_sell_and_buy(portfolio_symbols_equity_allocations, latest_alpaca_positions_allocations):\n",
    "\n",
    "    positions_to_sell, positions_to_buy = {}, {}\n",
    "\n",
    "    # Loop Through Latest Desired Allocation\n",
    "    for ticker, desired_allocation in portfolio_symbols_equity_allocations.items():\n",
    "\n",
    "        current_allocation = latest_alpaca_positions_allocations.get(ticker, 0)\n",
    "        allocation_to_adjust = desired_allocation - current_allocation\n",
    "\n",
    "        if allocation_to_adjust > 0:\n",
    "            positions_to_buy[ticker] = allocation_to_adjust\n",
    "        else:\n",
    "            positions_to_sell[ticker] = allocation_to_adjust * -1\n",
    "    \n",
    "    return positions_to_sell, positions_to_buy"
   ]
  },
  {
   "cell_type": "code",
   "execution_count": 60,
   "id": "ae9e8995-4855-4fcd-af42-5db30d0f36e8",
   "metadata": {},
   "outputs": [],
   "source": [
    "def alpaca_order(symbol, amount, side):\n",
    "    \n",
    "    if amount > 1:\n",
    "        \n",
    "        alpaca_order_info = alpaca.submit_order(symbol=symbol, notional=amount, side=side, type=\"market\", time_in_force=\"day\")\n",
    "        alpaca_client_order_id = alpaca_order_info.client_order_id\n",
    "        \n",
    "        order_pending = True\n",
    "        while order_pending:\n",
    "            latest_alpaca_order_info = alpaca.get_order_by_client_order_id(alpaca_client_order_id)\n",
    "            alpaca_latest_status = latest_alpaca_order_info.status\n",
    "            sleep(2.5)\n",
    "            if alpaca_latest_status == \"filled\":\n",
    "                order_pending = False\n",
    "\n",
    "def handle_buy_orders(positions_to_buy):\n",
    "    \n",
    "    for symbol, amount in positions_to_buy.items():\n",
    "        alpaca_order(symbol, amount, \"buy\")\n",
    "\n",
    "def handle_sell_orders(positions_to_sell):\n",
    "    \n",
    "    for symbol, amount in positions_to_sell.items():\n",
    "        alpaca_order(symbol, amount, \"sell\")"
   ]
  },
  {
   "cell_type": "code",
   "execution_count": 61,
   "id": "8f5fdcb4-18a3-4bc7-ac5b-79294cac5702",
   "metadata": {},
   "outputs": [],
   "source": [
    "def alpaca_rebalance(target_allocations, cash_weight=.05):\n",
    "\n",
    "    portfolio_symbols = list(target_allocations.keys())\n",
    "\n",
    "    # Check to Make Sure All Symbols are Eligible for Fractional Trading on Alpaca and Market is Open\n",
    "    all_symbols_eligible_for_fractionals = _all_symbols_eligible_for_fractionals(portfolio_symbols)\n",
    "\n",
    "    # Ensures All Symbols are Fractionable and the Market is Open\n",
    "    if all_symbols_eligible_for_fractionals and alpaca.get_clock().is_open:\n",
    "\n",
    "        # Grab Current Alpaca Holdings\n",
    "        alpaca_latest_positions = _alpaca_latest_positions()\n",
    "\n",
    "        # Construct a List of Equities to Close Based on Current Alpaca Holdings and Current Desired Holdings\n",
    "        print(\"Closing Positions...\")\n",
    "        print(20*\"~~\")\n",
    "        alpaca_symbols_to_close = _alpaca_symbols_to_close(alpaca_latest_positions, portfolio_symbols)\n",
    "        \n",
    "        # Close Any Alpaca Positions if Neccessary\n",
    "        if alpaca_symbols_to_close:\n",
    "            alpaca_close_positions(alpaca_symbols_to_close)\n",
    "\n",
    "        # Calculate Rebalance Weight Taking Cash Weight % into Account\n",
    "        print(\"Preparing Rebalance Equity...\")\n",
    "        print(20*\"~~\")\n",
    "        rebalance_equity = _rebalance_equity(cash_weight)\n",
    "        \n",
    "        # Allocate the Equity to Each Holding Based on Weight and Available Portfolio Equity\n",
    "        print(\"Preparing Positions to Sell and Buy...\")\n",
    "        print(20*\"~~\")\n",
    "        portfolio_symbols_equity_allocations = _portfolio_symbols_equity_allocations(target_allocations, rebalance_equity)\n",
    "        latest_alpaca_positions_allocations = _alpaca_latest_positions_allocations()\n",
    "        positions_to_sell, positions_to_buy = _alpaca_symbols_to_sell_and_buy(portfolio_symbols_equity_allocations, latest_alpaca_positions_allocations)\n",
    "\n",
    "        # Finally Adjust Allocations \n",
    "        print(\"Rebalancing...\")\n",
    "        print(20*\"~~\")\n",
    "        handle_sell_orders(positions_to_sell)\n",
    "        handle_buy_orders(positions_to_buy)\n",
    "\n",
    "        print(\"Completed Rebalance!\")\n",
    "        print(20*\"~~\")\n",
    "\n",
    "target_allocations = {\"VOO\": .2, \"VGT\": .2, \"QQQ\": .2, \"VTI\": .2, \"VYM\": .2}\n",
    "\n",
    "alpaca_rebalance(target_allocations)\n"
   ]
  },
  {
   "cell_type": "code",
   "execution_count": null,
   "id": "9292146c-730c-49df-845e-b9a85f1040ca",
   "metadata": {},
   "outputs": [],
   "source": []
  },
  {
   "cell_type": "code",
   "execution_count": null,
   "id": "0fe0f4f3-bd49-4af2-b3b5-d102f7e76ead",
   "metadata": {},
   "outputs": [],
   "source": []
  },
  {
   "cell_type": "code",
   "execution_count": 41,
   "id": "261508b5-1b71-4901-8e90-34b66d30ce94",
   "metadata": {},
   "outputs": [
    {
     "ename": "TypeError",
     "evalue": "unsupported operand type(s) for /: 'set' and 'int'",
     "output_type": "error",
     "traceback": [
      "\u001b[1;31m---------------------------------------------------------------------------\u001b[0m",
      "\u001b[1;31mTypeError\u001b[0m                                 Traceback (most recent call last)",
      "\u001b[1;32m~\\AppData\\Local\\Temp/ipykernel_32648/908410996.py\u001b[0m in \u001b[0;36m<module>\u001b[1;34m\u001b[0m\n\u001b[0;32m      5\u001b[0m \u001b[0mtotal_invested\u001b[0m \u001b[1;33m=\u001b[0m \u001b[0mx\u001b[0m \u001b[1;33m+\u001b[0m \u001b[0my\u001b[0m \u001b[1;33m+\u001b[0m \u001b[0mz\u001b[0m\u001b[1;33m\u001b[0m\u001b[1;33m\u001b[0m\u001b[0m\n\u001b[0;32m      6\u001b[0m \u001b[1;33m\u001b[0m\u001b[0m\n\u001b[1;32m----> 7\u001b[1;33m \u001b[0mweigths\u001b[0m \u001b[1;33m=\u001b[0m   \u001b[0minv_dict\u001b[0m \u001b[1;33m/\u001b[0m \u001b[0mtotal_invested\u001b[0m \u001b[1;33m/\u001b[0m \u001b[1;36m100\u001b[0m\u001b[1;33m\u001b[0m\u001b[1;33m\u001b[0m\u001b[0m\n\u001b[0m\u001b[0;32m      8\u001b[0m \u001b[1;33m\u001b[0m\u001b[0m\n\u001b[0;32m      9\u001b[0m \u001b[0mprofit\u001b[0m \u001b[1;33m=\u001b[0m \u001b[1;36m48000\u001b[0m\u001b[1;33m\u001b[0m\u001b[1;33m\u001b[0m\u001b[0m\n",
      "\u001b[1;31mTypeError\u001b[0m: unsupported operand type(s) for /: 'set' and 'int'"
     ]
    }
   ],
   "source": []
  },
  {
   "cell_type": "code",
   "execution_count": null,
   "id": "0310f7f2-8408-4ce0-ba69-6521016c4741",
   "metadata": {},
   "outputs": [],
   "source": []
  },
  {
   "cell_type": "code",
   "execution_count": null,
   "id": "5d393b04-2d05-4b0e-9886-09c3e17602c1",
   "metadata": {},
   "outputs": [],
   "source": []
  },
  {
   "cell_type": "code",
   "execution_count": null,
   "id": "8bb2cc39-32f3-4209-8898-bde39c0386f1",
   "metadata": {},
   "outputs": [],
   "source": []
  },
  {
   "cell_type": "code",
   "execution_count": null,
   "id": "c7231e73-8284-460d-83dd-cc1672828d45",
   "metadata": {},
   "outputs": [],
   "source": []
  },
  {
   "cell_type": "code",
   "execution_count": null,
   "id": "524613b2-244c-4994-aedf-70e0d34bb552",
   "metadata": {},
   "outputs": [],
   "source": []
  },
  {
   "cell_type": "code",
   "execution_count": null,
   "id": "cd07f79c-45aa-4d99-b63d-cfffe45d1d29",
   "metadata": {},
   "outputs": [],
   "source": []
  },
  {
   "cell_type": "code",
   "execution_count": null,
   "id": "946bdb53-cd53-4a98-882e-03415316b75c",
   "metadata": {},
   "outputs": [],
   "source": []
  },
  {
   "cell_type": "code",
   "execution_count": null,
   "id": "4e999418-8274-4830-9ca2-b3af0eb051f3",
   "metadata": {},
   "outputs": [],
   "source": []
  },
  {
   "cell_type": "code",
   "execution_count": null,
   "id": "4c14c78d-3490-42f0-b718-23b3292b5b8a",
   "metadata": {},
   "outputs": [],
   "source": []
  }
 ],
 "metadata": {
  "kernelspec": {
   "display_name": "Python 3 (ipykernel)",
   "language": "python",
   "name": "python3"
  },
  "language_info": {
   "codemirror_mode": {
    "name": "ipython",
    "version": 3
   },
   "file_extension": ".py",
   "mimetype": "text/x-python",
   "name": "python",
   "nbconvert_exporter": "python",
   "pygments_lexer": "ipython3",
   "version": "3.7.11"
  }
 },
 "nbformat": 4,
 "nbformat_minor": 5
}
